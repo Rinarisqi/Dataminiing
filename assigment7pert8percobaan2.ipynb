{
  "nbformat": 4,
  "nbformat_minor": 0,
  "metadata": {
    "colab": {
      "name": "assigment7pert8percobaan2.ipynb",
      "provenance": [],
      "authorship_tag": "ABX9TyOBytGlhVlPd4GRXc/IPR3n",
      "include_colab_link": true
    },
    "kernelspec": {
      "name": "python3",
      "display_name": "Python 3"
    },
    "language_info": {
      "name": "python"
    }
  },
  "cells": [
    {
      "cell_type": "markdown",
      "metadata": {
        "id": "view-in-github",
        "colab_type": "text"
      },
      "source": [
        "<a href=\"https://colab.research.google.com/github/Rinarisqi/Dataminiing/blob/main/assigment7pert8percobaan2.ipynb\" target=\"_parent\"><img src=\"https://colab.research.google.com/assets/colab-badge.svg\" alt=\"Open In Colab\"/></a>"
      ]
    },
    {
      "cell_type": "code",
      "metadata": {
        "id": "b05YGV4NEDI0"
      },
      "source": [
        "import numpy as np"
      ],
      "execution_count": 1,
      "outputs": []
    },
    {
      "cell_type": "code",
      "metadata": {
        "id": "9gXp6vl_ELCp"
      },
      "source": [
        "def forwardpass(inputs, weight, bias, activation = 'linear'):\n",
        "  w_sum = np.dot(inputs, weight) + bias\n",
        "\n",
        "  if activation is 'relu' :\n",
        "    # Relu Activation f(x) = max(0, x)\n",
        "    act = np.maximum(w_sum, 0)\n",
        "  else :\n",
        "            # Linear Activation f(X) = x\n",
        "            act = w_sum\n",
        "\n",
        "            return act"
      ],
      "execution_count": 4,
      "outputs": []
    },
    {
      "cell_type": "code",
      "metadata": {
        "id": "Z-3vjL71ET_E"
      },
      "source": [
        "W_H = np.array([[0.00192761, -0.78845304, 0.30310717, 0.44131625, 0.32792646, -0.02451803,1.43445349,-1.12972116]])\n",
        "b_H = np.array([-0.02657719, -1.15885878, -0.79183501, -0.33550513, -0.23438406, -0.25078532, 0.22305705, 0.80253315])\n",
        "\n",
        "W_o = np.array([[-0.77540326],[ 0.5030424 ], [ 0.37374797 ], [-0.20287184], [-0.35956827], [-0.54576212], [1.04326093], [ 0.8857621]])\n",
        "b_o = np.array([ 0.04351173])"
      ],
      "execution_count": 5,
      "outputs": []
    },
    {
      "cell_type": "code",
      "metadata": {
        "id": "TuGCH6sFEXgw"
      },
      "source": [
        "#Initialize Input Data\n",
        "inputs = np.array([[-2], [0], [2]])"
      ],
      "execution_count": 6,
      "outputs": []
    },
    {
      "cell_type": "code",
      "metadata": {
        "colab": {
          "base_uri": "https://localhost:8080/",
          "height": 231
        },
        "id": "chXj1KsMEbEL",
        "outputId": "aebeb9e6-c0cf-4528-a5ea-97a7ab8068f0"
      },
      "source": [
        "#Output of Hidden Layer Data\n",
        "h_out = forwardPass(inputs, W_H,b_H, )\n",
        "\n",
        "print('Hidden Layer Output (relu)')\n",
        "print('=============================')\n",
        "print(h_out, \"\\n\")\n",
        "\n",
        "#Output Of  Output Layer\n",
        "o_out = forwardPass(h_out, W_o, b_o, )\n",
        "\n",
        "print('Output Layer Output (Linear)')\n",
        "print('================================')\n",
        "print(o_out, \"\\n\")"
      ],
      "execution_count": 7,
      "outputs": [
        {
          "output_type": "error",
          "ename": "NameError",
          "evalue": "ignored",
          "traceback": [
            "\u001b[0;31m---------------------------------------------------------------------------\u001b[0m",
            "\u001b[0;31mNameError\u001b[0m                                 Traceback (most recent call last)",
            "\u001b[0;32m<ipython-input-7-ca8e2debc0f6>\u001b[0m in \u001b[0;36m<module>\u001b[0;34m()\u001b[0m\n\u001b[1;32m      1\u001b[0m \u001b[0;31m#Output of Hidden Layer Data\u001b[0m\u001b[0;34m\u001b[0m\u001b[0;34m\u001b[0m\u001b[0;34m\u001b[0m\u001b[0m\n\u001b[0;32m----> 2\u001b[0;31m \u001b[0mh_out\u001b[0m \u001b[0;34m=\u001b[0m \u001b[0mforwardPass\u001b[0m\u001b[0;34m(\u001b[0m\u001b[0minputs\u001b[0m\u001b[0;34m,\u001b[0m \u001b[0mW_H\u001b[0m\u001b[0;34m,\u001b[0m\u001b[0mb_H\u001b[0m\u001b[0;34m,\u001b[0m \u001b[0;34m)\u001b[0m\u001b[0;34m\u001b[0m\u001b[0;34m\u001b[0m\u001b[0m\n\u001b[0m\u001b[1;32m      3\u001b[0m \u001b[0;34m\u001b[0m\u001b[0m\n\u001b[1;32m      4\u001b[0m \u001b[0mprint\u001b[0m\u001b[0;34m(\u001b[0m\u001b[0;34m'Hidden Layer Output (relu)'\u001b[0m\u001b[0;34m)\u001b[0m\u001b[0;34m\u001b[0m\u001b[0;34m\u001b[0m\u001b[0m\n\u001b[1;32m      5\u001b[0m \u001b[0mprint\u001b[0m\u001b[0;34m(\u001b[0m\u001b[0;34m'============================='\u001b[0m\u001b[0;34m)\u001b[0m\u001b[0;34m\u001b[0m\u001b[0;34m\u001b[0m\u001b[0m\n",
            "\u001b[0;31mNameError\u001b[0m: name 'forwardPass' is not defined"
          ]
        }
      ]
    }
  ]
}