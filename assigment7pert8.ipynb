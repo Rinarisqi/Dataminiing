{
  "nbformat": 4,
  "nbformat_minor": 0,
  "metadata": {
    "colab": {
      "name": "assigment7pert8.ipynb",
      "provenance": [],
      "authorship_tag": "ABX9TyPghF56rKCEaU0JKdzaISC0",
      "include_colab_link": true
    },
    "kernelspec": {
      "name": "python3",
      "display_name": "Python 3"
    },
    "language_info": {
      "name": "python"
    }
  },
  "cells": [
    {
      "cell_type": "markdown",
      "metadata": {
        "id": "view-in-github",
        "colab_type": "text"
      },
      "source": [
        "<a href=\"https://colab.research.google.com/github/Rinarisqi/Dataminiing/blob/main/assigment7pert8.ipynb\" target=\"_parent\"><img src=\"https://colab.research.google.com/assets/colab-badge.svg\" alt=\"Open In Colab\"/></a>"
      ]
    },
    {
      "cell_type": "code",
      "metadata": {
        "id": "E7Yz2PTy8WLW"
      },
      "source": [
        "import numpy as np"
      ],
      "execution_count": null,
      "outputs": []
    },
    {
      "cell_type": "code",
      "metadata": {
        "id": "v9FOATtQ8oJh"
      },
      "source": [
        "def forwardPass(inputs, weight, bias):\n",
        "  w_sum = np.dot(inputs, weight) + bias\n",
        "\n",
        "  # Linear Activation f(x) = x\n",
        "  act = w_sum\n",
        "\n",
        "  return act"
      ],
      "execution_count": null,
      "outputs": []
    },
    {
      "cell_type": "code",
      "metadata": {
        "id": "ummG9xZo8s-6"
      },
      "source": [
        "# PRE-TRAINED Weights & Biases after Training\n",
        "\n",
        "W = np.array([[2.99999928]])\n",
        "b = np.array([1.99999976])"
      ],
      "execution_count": null,
      "outputs": []
    },
    {
      "cell_type": "code",
      "metadata": {
        "id": "xBoIY8S28y3D"
      },
      "source": [
        "# Initialize Input Data\n",
        "inputs = np.array([[7], [8], [9], [10]])"
      ],
      "execution_count": null,
      "outputs": []
    },
    {
      "cell_type": "code",
      "metadata": {
        "colab": {
          "base_uri": "https://localhost:8080/"
        },
        "id": "lMVFc_IR807L",
        "outputId": "8383afad-7a79-4956-8c68-be0c9f0a5044"
      },
      "source": [
        "#Output of output Layer\n",
        "o_out = forwardPass(inputs, W, b)\n",
        "\n",
        "print('Output Layer Output (Linear)')\n",
        "print('================================')\n",
        "print(o_out, \"\\n\")"
      ],
      "execution_count": null,
      "outputs": [
        {
          "output_type": "stream",
          "text": [
            "Output Layer Output (Linear)\n",
            "================================\n",
            "[[22.99999472]\n",
            " [25.999994  ]\n",
            " [28.99999328]\n",
            " [31.99999256]] \n",
            "\n"
          ],
          "name": "stdout"
        }
      ]
    }
  ]
}